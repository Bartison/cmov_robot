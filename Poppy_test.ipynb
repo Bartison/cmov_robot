{
 "cells": [
  {
   "cell_type": "code",
   "execution_count": 2,
   "metadata": {},
   "outputs": [],
   "source": [
    "from pypot.vrep import from_vrep\n",
    "from pypot.creatures import PoppyHumanoid"
   ]
  },
  {
   "cell_type": "code",
   "execution_count": 32,
   "metadata": {},
   "outputs": [],
   "source": [
    "import time"
   ]
  },
  {
   "cell_type": "code",
   "execution_count": 1,
   "metadata": {},
   "outputs": [],
   "source": [
    "from pypot.creatures import PoppyHumanoid\n",
    "\n",
    "poppy = PoppyHumanoid(simulator='vrep')\n"
   ]
  },
  {
   "cell_type": "code",
   "execution_count": 25,
   "metadata": {},
   "outputs": [],
   "source": [
    "poppy.reset_simulation()"
   ]
  },
  {
   "cell_type": "code",
   "execution_count": 4,
   "metadata": {},
   "outputs": [
    {
     "name": "stdout",
     "output_type": "stream",
     "text": [
      "[<DxlMotor name=l_elbow_y id=44 pos=-0.0>, <DxlMotor name=r_hip_y id=23 pos=-0.0>, <DxlMotor name=r_knee_y id=24 pos=0.0>, <DxlMotor name=head_y id=37 pos=-1.8999999999999986>, <DxlMotor name=r_ankle_y id=25 pos=0.1>, <DxlMotor name=r_arm_z id=53 pos=-0.0>, <DxlMotor name=head_z id=36 pos=-0.0>, <DxlMotor name=r_shoulder_x id=52 pos=-1.0>, <DxlMotor name=r_shoulder_y id=51 pos=0.0>, <DxlMotor name=r_hip_z id=22 pos=0.0>, <DxlMotor name=r_hip_x id=21 pos=0.2>, <DxlMotor name=r_elbow_y id=54 pos=-0.0>, <DxlMotor name=l_arm_z id=43 pos=0.0>, <DxlMotor name=l_hip_x id=11 pos=-0.3>, <DxlMotor name=l_hip_y id=13 pos=-2.0>, <DxlMotor name=l_hip_z id=12 pos=0.1>, <DxlMotor name=abs_x id=32 pos=0.0>, <DxlMotor name=abs_y id=31 pos=0.1>, <DxlMotor name=abs_z id=33 pos=-0.0>, <DxlMotor name=l_ankle_y id=15 pos=0.1>, <DxlMotor name=bust_y id=34 pos=0.1>, <DxlMotor name=bust_x id=35 pos=0.0>, <DxlMotor name=l_knee_y id=14 pos=-0.0>, <DxlMotor name=l_shoulder_x id=42 pos=0.29999999999999716>, <DxlMotor name=l_shoulder_y id=41 pos=-0.20000000000000284>]\n"
     ]
    }
   ],
   "source": [
    "print(poppy.motors)"
   ]
  },
  {
   "cell_type": "code",
   "execution_count": 28,
   "metadata": {},
   "outputs": [
    {
     "name": "stdout",
     "output_type": "stream",
     "text": [
      "r_shoulder_y posição: 0.0\n",
      "r_shoulder_x posição: -109.7\n",
      "r_arm_z posição: 0.0\n",
      "r_elbow_y posição: -90.1\n"
     ]
    }
   ],
   "source": [
    "for membro in poppy.r_arm:  \n",
    "    print(membro.name + \" posição: \" + str(membro.present_position)) "
   ]
  },
  {
   "cell_type": "code",
   "execution_count": 23,
   "metadata": {},
   "outputs": [],
   "source": [
    "poppy.r_shoulder_y.goal_position = 0.0\n",
    "poppy.r_shoulder_x.goal_position = -0.9000000000000057\n",
    "poppy.r_arm_z.goal_position = -0.0\n",
    "poppy.r_elbow_y.goal_position = -0.0"
   ]
  },
  {
   "cell_type": "code",
   "execution_count": 17,
   "metadata": {},
   "outputs": [
    {
     "data": {
      "text/plain": [
       "(0.9999999922536332, -148.00000301568426)"
      ]
     },
     "execution_count": 17,
     "metadata": {},
     "output_type": "execute_result"
    }
   ],
   "source": [
    "poppy.r_elbow_y.angle_limit"
   ]
  },
  {
   "cell_type": "code",
   "execution_count": 40,
   "metadata": {},
   "outputs": [],
   "source": [
    "#Cell \"tchau\"\n",
    "\n",
    "braco_dir = poppy.r_arm\n",
    "braco_esq = poppy.l_arm\n",
    "braco_dir_z = poppy.r_arm_z\n",
    "ombro_x_dir = poppy.r_shoulder_x\n",
    "ombro_y_dir = poppy.r_shoulder_y\n",
    "cotovelo_y_dir = poppy.r_elbow_y\n",
    "\n",
    "braco_dir_z.goal_position = -90\n",
    "time.sleep(0.2)\n",
    "ombro_x_dir.goal_position = -110\n",
    "time.sleep(0.2)\n",
    "poppy.r_elbow_y.goal_position = -20\n",
    "time.sleep(0.3)\n",
    "\n",
    "for vez in range(1,7,1):\n",
    "    cotovelo_y_dir.goal_position = -110\n",
    "    time.sleep(0.3)\n",
    "    cotovelo_y_dir.goal_position = -20\n",
    "    time.sleep(0.3)\n",
    "\n",
    "\n",
    "braco_dir_z.goal_position = -0.0\n",
    "time.sleep(0.2)\n",
    "cotovelo_y_dir.goal_position = -0.0\n",
    "time.sleep(0.2)\n",
    "ombro_x_dir.goal_position = -0.9000000000000057"
   ]
  },
  {
   "cell_type": "code",
   "execution_count": 28,
   "metadata": {},
   "outputs": [
    {
     "name": "stdout",
     "output_type": "stream",
     "text": [
      "(19.99999850756943, -194.9999995067966)\n"
     ]
    }
   ],
   "source": [
    "print(poppy.r_shoulder_x.angle_limit)"
   ]
  },
  {
   "cell_type": "code",
   "execution_count": null,
   "metadata": {},
   "outputs": [],
   "source": [
    "for vezes in range(1,5,1):\n",
    "    if poppy.r_elbow_y.present_position == 0:\n",
    "        for angulo in range(1,45,1):\n",
    "            for membro in poppy.r_arm:\n",
    "                print(\"O angulo do cotovelo está em: \" + str(angulo))\n",
    "                membro.goal_position = angulo\n",
    "                time.sleep(1)\n",
    "    else:\n",
    "        for angulo in range(45,0,-1):\n",
    "            for membro in poppy.r_arm:\n",
    "                membro.goal_position = angulo\n",
    "                print(\"O angulo do cotovelo está em: \" + str(angulo))\n",
    "                time.sleep(1)"
   ]
  }
 ],
 "metadata": {
  "interpreter": {
   "hash": "26de051ba29f2982a8de78e945f0abaf191376122a1563185a90213a26c5da77"
  },
  "kernelspec": {
   "display_name": "Python 3.10.0 64-bit (system)",
   "language": "python",
   "name": "python3"
  },
  "language_info": {
   "codemirror_mode": {
    "name": "ipython",
    "version": 3
   },
   "file_extension": ".py",
   "mimetype": "text/x-python",
   "name": "python",
   "nbconvert_exporter": "python",
   "pygments_lexer": "ipython3",
   "version": "3.10.0"
  },
  "orig_nbformat": 4
 },
 "nbformat": 4,
 "nbformat_minor": 2
}
